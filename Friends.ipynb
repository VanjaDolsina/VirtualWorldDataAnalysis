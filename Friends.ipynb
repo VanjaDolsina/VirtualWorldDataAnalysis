{
 "cells": [
  {
   "cell_type": "code",
   "execution_count": 1,
   "metadata": {
    "collapsed": true
   },
   "outputs": [],
   "source": [
    "import os\n",
    "import numpy as np\n",
    "import pandas as pd\n",
    "import math\n",
    "import networkx as nx\n",
    "import seaborn as sns\n",
    "import random\n",
    "import operator\n",
    "from random import choice\n",
    "from heapq import nlargest\n",
    "from matplotlib import pyplot as plt\n",
    "from datetime import datetime"
   ]
  },
  {
   "cell_type": "code",
   "execution_count": 2,
   "metadata": {
    "collapsed": true
   },
   "outputs": [],
   "source": [
    "os.chdir(\"C:\\\\Users\\\\alex\\\\Desktop\\\\Project 9- Virtual world Data Analysis\\\\dataverse_files\\\\csv\")"
   ]
  },
  {
   "cell_type": "code",
   "execution_count": 3,
   "metadata": {
    "collapsed": true
   },
   "outputs": [],
   "source": [
    "y=pd.read_csv('friends.csv',sep=\";\",header=None,engine='python',usecols=(0,1,2))"
   ]
  },
  {
   "cell_type": "code",
   "execution_count": 4,
   "metadata": {
    "collapsed": true
   },
   "outputs": [],
   "source": [
    "#y"
   ]
  },
  {
   "cell_type": "code",
   "execution_count": 5,
   "metadata": {
    "collapsed": true
   },
   "outputs": [],
   "source": [
    "s = pd.Series(pd.date_range('2007-12-15 12:33:33','2012-12-31 23:43:06',freq='1M'))"
   ]
  },
  {
   "cell_type": "code",
   "execution_count": 6,
   "metadata": {
    "collapsed": true
   },
   "outputs": [],
   "source": [
    "s[60]\n",
    "y[0]=y[0].as_matrix() \n",
    "y[0]= pd.to_datetime(y[0])"
   ]
  },
  {
   "cell_type": "code",
   "execution_count": 7,
   "metadata": {
    "collapsed": true
   },
   "outputs": [],
   "source": [
    "Time=[]\n",
    "for i in range(60):\n",
    "    Time.append(y.loc[(y[0]>=s[i])&(y[0]<s[i+1])])"
   ]
  },
  {
   "cell_type": "code",
   "execution_count": 8,
   "metadata": {
    "collapsed": true
   },
   "outputs": [],
   "source": [
    "X=[]\n",
    "for i in range(60):\n",
    "    X.append(nx.from_pandas_dataframe(Time[i],source=1, target=2,edge_attr=True)) "
   ]
  },
  {
   "cell_type": "code",
   "execution_count": 9,
   "metadata": {},
   "outputs": [
    {
     "name": "stdout",
     "output_type": "stream",
     "text": [
      "17652 98629 2007-12-31 12:33:33 2008-01-31 12:33:33\n",
      "14279 104252 2008-01-31 12:33:33 2008-02-29 12:33:33\n",
      "19544 163935 2008-02-29 12:33:33 2008-03-31 12:33:33\n",
      "19146 187001 2008-03-31 12:33:33 2008-04-30 12:33:33\n",
      "41981 333447 2008-04-30 12:33:33 2008-05-31 12:33:33\n",
      "33598 350992 2008-05-31 12:33:33 2008-06-30 12:33:33\n",
      "32631 404448 2008-06-30 12:33:33 2008-07-31 12:33:33\n",
      "37679 492017 2008-07-31 12:33:33 2008-08-31 12:33:33\n",
      "28739 319190 2008-08-31 12:33:33 2008-09-30 12:33:33\n",
      "26705 310802 2008-09-30 12:33:33 2008-10-31 12:33:33\n",
      "29546 325777 2008-10-31 12:33:33 2008-11-30 12:33:33\n",
      "30903 319716 2008-11-30 12:33:33 2008-12-31 12:33:33\n",
      "30891 380836 2008-12-31 12:33:33 2009-01-31 12:33:33\n",
      "27374 346585 2009-01-31 12:33:33 2009-02-28 12:33:33\n",
      "30981 371512 2009-02-28 12:33:33 2009-03-31 12:33:33\n",
      "28797 345381 2009-03-31 12:33:33 2009-04-30 12:33:33\n",
      "27048 294364 2009-04-30 12:33:33 2009-05-31 12:33:33\n",
      "33874 395483 2009-05-31 12:33:33 2009-06-30 12:33:33\n",
      "28044 338027 2009-06-30 12:33:33 2009-07-31 12:33:33\n",
      "28276 383202 2009-07-31 12:33:33 2009-08-31 12:33:33\n",
      "18781 199133 2009-08-31 12:33:33 2009-09-30 12:33:33\n",
      "22778 235442 2009-09-30 12:33:33 2009-10-31 12:33:33\n",
      "16296 148863 2009-10-31 12:33:33 2009-11-30 12:33:33\n",
      "22394 236688 2009-11-30 12:33:33 2009-12-31 12:33:33\n",
      "22104 253340 2009-12-31 12:33:33 2010-01-31 12:33:33\n",
      "23277 278799 2010-01-31 12:33:33 2010-02-28 12:33:33\n",
      "21907 226420 2010-02-28 12:33:33 2010-03-31 12:33:33\n",
      "19355 190936 2010-03-31 12:33:33 2010-04-30 12:33:33\n",
      "18229 172201 2010-04-30 12:33:33 2010-05-31 12:33:33\n",
      "19431 202652 2010-05-31 12:33:33 2010-06-30 12:33:33\n",
      "21296 242221 2010-06-30 12:33:33 2010-07-31 12:33:33\n",
      "17032 185104 2010-07-31 12:33:33 2010-08-31 12:33:33\n",
      "12434 111889 2010-08-31 12:33:33 2010-09-30 12:33:33\n",
      "12591 121251 2010-09-30 12:33:33 2010-10-31 12:33:33\n",
      "13790 141654 2010-10-31 12:33:33 2010-11-30 12:33:33\n",
      "14102 144959 2010-11-30 12:33:33 2010-12-31 12:33:33\n",
      "13907 142892 2010-12-31 12:33:33 2011-01-31 12:33:33\n",
      "11903 114231 2011-01-31 12:33:33 2011-02-28 12:33:33\n",
      "10459 95882 2011-02-28 12:33:33 2011-03-31 12:33:33\n",
      "9775 81953 2011-03-31 12:33:33 2011-04-30 12:33:33\n",
      "7847 61671 2011-04-30 12:33:33 2011-05-31 12:33:33\n",
      "8408 69033 2011-05-31 12:33:33 2011-06-30 12:33:33\n",
      "9695 87515 2011-06-30 12:33:33 2011-07-31 12:33:33\n",
      "9013 77012 2011-07-31 12:33:33 2011-08-31 12:33:33\n",
      "5639 41896 2011-08-31 12:33:33 2011-09-30 12:33:33\n",
      "6369 49916 2011-09-30 12:33:33 2011-10-31 12:33:33\n",
      "6847 51963 2011-10-31 12:33:33 2011-11-30 12:33:33\n",
      "5568 37260 2011-11-30 12:33:33 2011-12-31 12:33:33\n",
      "5671 38844 2011-12-31 12:33:33 2012-01-31 12:33:33\n",
      "4898 35605 2012-01-31 12:33:33 2012-02-29 12:33:33\n",
      "3714 19930 2012-02-29 12:33:33 2012-03-31 12:33:33\n",
      "3706 21781 2012-03-31 12:33:33 2012-04-30 12:33:33\n",
      "3483 19694 2012-04-30 12:33:33 2012-05-31 12:33:33\n",
      "4157 27254 2012-05-31 12:33:33 2012-06-30 12:33:33\n",
      "4548 35985 2012-06-30 12:33:33 2012-07-31 12:33:33\n",
      "4011 30250 2012-07-31 12:33:33 2012-08-31 12:33:33\n",
      "2420 14063 2012-08-31 12:33:33 2012-09-30 12:33:33\n",
      "1896 7691 2012-09-30 12:33:33 2012-10-31 12:33:33\n",
      "1901 8568 2012-10-31 12:33:33 2012-11-30 12:33:33\n",
      "2052 9039 2012-11-30 12:33:33 2012-12-31 12:33:33\n"
     ]
    }
   ],
   "source": [
    "for i in range(60):\n",
    "    print(X[i].order(),X[i].size(),s[i],s[i+1])"
   ]
  },
  {
   "cell_type": "code",
   "execution_count": 10,
   "metadata": {},
   "outputs": [
    {
     "data": {
      "text/plain": [
       "Timestamp('2012-01-31 12:33:33')"
      ]
     },
     "execution_count": 10,
     "metadata": {},
     "output_type": "execute_result"
    }
   ],
   "source": [
    "s[49]"
   ]
  },
  {
   "cell_type": "code",
   "execution_count": 11,
   "metadata": {},
   "outputs": [
    {
     "data": {
      "image/png": "[encoded data removed]",
      "text/plain": [
       "<matplotlib.figure.Figure at 0x1a624e53c50>"
      ]
     },
     "metadata": {},
     "output_type": "display_data"
    }
   ],
   "source": [
    "for i in range(60):\n",
    "    if ((i==34)|(i==47)|(i==49)):\n",
    "        plt.scatter(s[i],X[i].size(),c='r')\n",
    "    else:\n",
    "        plt.scatter(s[i],X[i].size(),c='c')\n",
    "plt.grid()\n",
    "plt.xlabel('Time')\n",
    "plt.ylabel('New friends')\n",
    "plt.title('Number of friends from 2008 to 2013')\n",
    "plt.show()"
   ]
  },
  {
   "cell_type": "code",
   "execution_count": 12,
   "metadata": {
    "collapsed": true
   },
   "outputs": [],
   "source": [
    "s1 = pd.Series(pd.date_range('2010-10-28 15:04:00','2010-11-02 15:04:00',freq='6H'))                 "
   ]
  },
  {
   "cell_type": "code",
   "execution_count": 13,
   "metadata": {},
   "outputs": [
    {
     "data": {
      "text/plain": [
       "Timestamp('2010-11-02 15:04:00')"
      ]
     },
     "execution_count": 13,
     "metadata": {},
     "output_type": "execute_result"
    }
   ],
   "source": [
    "s1[20]"
   ]
  },
  {
   "cell_type": "code",
   "execution_count": 14,
   "metadata": {
    "collapsed": true
   },
   "outputs": [],
   "source": [
    "T1=[]\n",
    "for i in range(20):\n",
    "    T1.append(y.loc[(y[0]>=s1[i])&(y[0]<s1[i+1])])"
   ]
  },
  {
   "cell_type": "code",
   "execution_count": 15,
   "metadata": {
    "collapsed": true
   },
   "outputs": [],
   "source": [
    "X1=[]\n",
    "for i in range(20):\n",
    "    X1.append(nx.from_pandas_dataframe(T1[i],source=1, target=2,edge_attr=True)) "
   ]
  },
  {
   "cell_type": "code",
   "execution_count": 16,
   "metadata": {},
   "outputs": [
    {
     "name": "stdout",
     "output_type": "stream",
     "text": [
      "876 2321 2010-10-28 15:04:00 2010-10-28 21:04:00\n",
      "158 307 2010-10-28 21:04:00 2010-10-29 03:04:00\n",
      "41 50 2010-10-29 03:04:00 2010-10-29 09:04:00\n",
      "409 877 2010-10-29 09:04:00 2010-10-29 15:04:00\n",
      "1014 2839 2010-10-29 15:04:00 2010-10-29 21:04:00\n",
      "301 518 2010-10-29 21:04:00 2010-10-30 03:04:00\n",
      "121 229 2010-10-30 03:04:00 2010-10-30 09:04:00\n",
      "860 2189 2010-10-30 09:04:00 2010-10-30 15:04:00\n",
      "929 2805 2010-10-30 15:04:00 2010-10-30 21:04:00\n",
      "348 809 2010-10-30 21:04:00 2010-10-31 03:04:00\n",
      "257 448 2010-10-31 03:04:00 2010-10-31 09:04:00\n",
      "959 2447 2010-10-31 09:04:00 2010-10-31 15:04:00\n",
      "1176 3718 2010-10-31 15:04:00 2010-10-31 21:04:00\n",
      "371 841 2010-10-31 21:04:00 2010-11-01 03:04:00\n",
      "237 494 2010-11-01 03:04:00 2010-11-01 09:04:00\n",
      "947 2961 2010-11-01 09:04:00 2010-11-01 15:04:00\n",
      "1049 2838 2010-11-01 15:04:00 2010-11-01 21:04:00\n",
      "199 301 2010-11-01 21:04:00 2010-11-02 03:04:00\n",
      "134 256 2010-11-02 03:04:00 2010-11-02 09:04:00\n",
      "629 1752 2010-11-02 09:04:00 2010-11-02 15:04:00\n"
     ]
    }
   ],
   "source": [
    "for i in range(20):\n",
    "    print(X1[i].order(),X1[i].size(),s1[i],s1[i+1])"
   ]
  },
  {
   "cell_type": "code",
   "execution_count": 17,
   "metadata": {},
   "outputs": [
    {
     "data": {
      "image/png": "[encoded data removed]",
      "text/plain": [
       "<matplotlib.figure.Figure at 0x1a625488b38>"
      ]
     },
     "metadata": {},
     "output_type": "display_data"
    }
   ],
   "source": [
    "plt.figure(figsize=(10,5))\n",
    "for i in range(20):\n",
    "    if(i==12):\n",
    "        plt.plot(s1[i],X1[i].size(),'ro--',c='r')\n",
    "    else:\n",
    "        plt.plot(s1[i],X1[i].size(),'ro--',c='c')\n",
    "plt.grid()\n",
    "plt.xlabel('Date')\n",
    "plt.ylabel('Number of new friends')\n",
    "plt.title('New friends in period of 1st and 2nd campaigns(first day 2010-10-31)')\n",
    "plt.savefig('friends1.png')\n",
    "plt.show()"
   ]
  },
  {
   "cell_type": "code",
   "execution_count": 18,
   "metadata": {
    "collapsed": true
   },
   "outputs": [],
   "source": [
    "s2 = pd.Series(pd.date_range('2011-12-08 07:00:00','2011-12-28 07:00:00',freq='1D'))"
   ]
  },
  {
   "cell_type": "code",
   "execution_count": 19,
   "metadata": {},
   "outputs": [
    {
     "data": {
      "text/plain": [
       "Timestamp('2011-12-28 07:00:00')"
      ]
     },
     "execution_count": 19,
     "metadata": {},
     "output_type": "execute_result"
    }
   ],
   "source": [
    "s2[20]"
   ]
  },
  {
   "cell_type": "code",
   "execution_count": 20,
   "metadata": {
    "collapsed": true
   },
   "outputs": [],
   "source": [
    "T2=[]\n",
    "for i in range(20):\n",
    "    T2.append(y.loc[(y[0]>=s2[i])&(y[0]<s2[i+1])])"
   ]
  },
  {
   "cell_type": "code",
   "execution_count": 21,
   "metadata": {
    "collapsed": true
   },
   "outputs": [],
   "source": [
    "X2=[]\n",
    "for i in range(20):\n",
    "    X2.append(nx.from_pandas_dataframe(T2[i],source=1, target=2,edge_attr=True)) "
   ]
  },
  {
   "cell_type": "code",
   "execution_count": 22,
   "metadata": {},
   "outputs": [
    {
     "name": "stdout",
     "output_type": "stream",
     "text": [
      "479 1054 2011-12-08 07:00:00 2011-12-09 07:00:00\n",
      "583 1358 2011-12-09 07:00:00 2011-12-10 07:00:00\n",
      "666 1774 2011-12-10 07:00:00 2011-12-11 07:00:00\n",
      "712 2045 2011-12-11 07:00:00 2011-12-12 07:00:00\n",
      "512 1154 2011-12-12 07:00:00 2011-12-13 07:00:00\n",
      "461 888 2011-12-13 07:00:00 2011-12-14 07:00:00\n",
      "434 852 2011-12-14 07:00:00 2011-12-15 07:00:00\n",
      "412 817 2011-12-15 07:00:00 2011-12-16 07:00:00\n",
      "558 1248 2011-12-16 07:00:00 2011-12-17 07:00:00\n",
      "754 1883 2011-12-17 07:00:00 2011-12-18 07:00:00\n",
      "624 1662 2011-12-18 07:00:00 2011-12-19 07:00:00\n",
      "459 1091 2011-12-19 07:00:00 2011-12-20 07:00:00\n",
      "509 1181 2011-12-20 07:00:00 2011-12-21 07:00:00\n",
      "557 1195 2011-12-21 07:00:00 2011-12-22 07:00:00\n",
      "618 1468 2011-12-22 07:00:00 2011-12-23 07:00:00\n",
      "755 2099 2011-12-23 07:00:00 2011-12-24 07:00:00\n",
      "612 1499 2011-12-24 07:00:00 2011-12-25 07:00:00\n",
      "752 2169 2011-12-25 07:00:00 2011-12-26 07:00:00\n",
      "861 2806 2011-12-26 07:00:00 2011-12-27 07:00:00\n",
      "870 2909 2011-12-27 07:00:00 2011-12-28 07:00:00\n"
     ]
    }
   ],
   "source": [
    "for i in range(20):\n",
    "    print(X2[i].order(),X2[i].size(),s2[i],s2[i+1])"
   ]
  },
  {
   "cell_type": "code",
   "execution_count": 23,
   "metadata": {},
   "outputs": [
    {
     "data": {
      "image/png": "[encoded data removed]",
      "text/plain": [
       "<matplotlib.figure.Figure at 0x1a626676e48>"
      ]
     },
     "metadata": {},
     "output_type": "display_data"
    }
   ],
   "source": [
    "plt.figure(figsize=(12,5))\n",
    "for i in range(20):\n",
    "    if ((i==3)|(i==16)|(i==17)):\n",
    "        plt.plot(s2[i],X2[i].size(),'ro--',c='r')\n",
    "    else:\n",
    "        plt.plot(s2[i],X2[i].size(),'ro--',c='c')        \n",
    "    plt.xlim(s2[0],s2[20])\n",
    "plt.grid()\n",
    "plt.xlabel('Date')\n",
    "plt.ylabel('Number of new friends')\n",
    "plt.title('New friends in period of 3rd (11-12-11...) and 4th (11-12-24...) campaigns')\n",
    "plt.savefig('friends2.png')\n",
    "plt.show()"
   ]
  },
  {
   "cell_type": "code",
   "execution_count": 24,
   "metadata": {
    "collapsed": true
   },
   "outputs": [],
   "source": [
    "s3 = pd.Series(pd.date_range('2012-01-25 14:40:00','2012-02-06 14:40:00',freq='1D'))"
   ]
  },
  {
   "cell_type": "code",
   "execution_count": 25,
   "metadata": {},
   "outputs": [
    {
     "data": {
      "text/plain": [
       "Timestamp('2012-02-06 14:40:00')"
      ]
     },
     "execution_count": 25,
     "metadata": {},
     "output_type": "execute_result"
    }
   ],
   "source": [
    "s3[12]"
   ]
  },
  {
   "cell_type": "code",
   "execution_count": 26,
   "metadata": {
    "collapsed": true
   },
   "outputs": [],
   "source": [
    "T3=[]\n",
    "for i in range(12):\n",
    "    T3.append(y.loc[(y[0]>=s3[i])&(y[0]<s3[i+1])])"
   ]
  },
  {
   "cell_type": "code",
   "execution_count": 27,
   "metadata": {
    "collapsed": true
   },
   "outputs": [],
   "source": [
    "X3=[]\n",
    "for i in range(12):\n",
    "    X3.append(nx.from_pandas_dataframe(T3[i],source=1, target=2,edge_attr=True)) "
   ]
  },
  {
   "cell_type": "code",
   "execution_count": 28,
   "metadata": {},
   "outputs": [
    {
     "name": "stdout",
     "output_type": "stream",
     "text": [
      "539 1380 2012-01-25 14:40:00 2012-01-26 14:40:00\n",
      "497 1353 2012-01-26 14:40:00 2012-01-27 14:40:00\n",
      "263 423 2012-01-27 14:40:00 2012-01-28 14:40:00\n",
      "314 595 2012-01-28 14:40:00 2012-01-29 14:40:00\n",
      "533 1353 2012-01-29 14:40:00 2012-01-30 14:40:00\n",
      "565 1429 2012-01-30 14:40:00 2012-01-31 14:40:00\n",
      "569 1473 2012-01-31 14:40:00 2012-02-01 14:40:00\n",
      "616 1777 2012-02-01 14:40:00 2012-02-02 14:40:00\n",
      "614 1717 2012-02-02 14:40:00 2012-02-03 14:40:00\n",
      "569 1395 2012-02-03 14:40:00 2012-02-04 14:40:00\n",
      "546 1609 2012-02-04 14:40:00 2012-02-05 14:40:00\n",
      "535 1377 2012-02-05 14:40:00 2012-02-06 14:40:00\n"
     ]
    }
   ],
   "source": [
    "for i in range(12):\n",
    "    print(X3[i].order(),X3[i].size(),s3[i],s3[i+1])"
   ]
  },
  {
   "cell_type": "code",
   "execution_count": 29,
   "metadata": {},
   "outputs": [
    {
     "data": {
      "image/png": "[encoded data removed]",
      "text/plain": [
       "<matplotlib.figure.Figure at 0x1a627a2da20>"
      ]
     },
     "metadata": {},
     "output_type": "display_data"
    }
   ],
   "source": [
    "plt.figure(figsize=(12,5))\n",
    "for i in range(12):\n",
    "    if(i==6):\n",
    "        plt.plot(s3[i],X3[i].size(),'ro--',c='r')\n",
    "    else:\n",
    "        plt.plot(s3[i],X3[i].size(),'ro--',c='c')\n",
    "    plt.xlim(s3[0],s3[12])\n",
    "plt.grid()\n",
    "plt.xlabel('Date')\n",
    "plt.ylabel('New friends')\n",
    "plt.title('New friends in period of 5th campaign (starts from 12-01-30...)')\n",
    "plt.savefig('friends3.png')\n",
    "plt.show()"
   ]
  },
  {
   "cell_type": "code",
   "execution_count": 30,
   "metadata": {},
   "outputs": [
    {
     "name": "stdout",
     "output_type": "stream",
     "text": [
      "\n",
      "New friends for user number 604657: \n",
      "Total Transactions: 12466\n",
      "                           0        1        2\n",
      "1361925  2008-06-22 10:08:34   604115   604657\n",
      "1362006  2008-06-22 10:13:16   604298   604657\n",
      "1362093  2008-06-22 10:18:19   588604   604657\n",
      "1362746  2008-06-22 10:51:01   608231   604657\n",
      "1377643  2008-06-23 09:30:37   596787   604657\n",
      "1459024  2008-06-27 10:22:34   622714   604657\n",
      "1460033  2008-06-27 11:04:45   592626   604657\n",
      "1460061  2008-06-27 11:05:24   622027   604657\n",
      "1475512  2008-06-28 07:38:50   625325   604657\n",
      "1543050  2008-07-02 08:15:11   632611   604657\n",
      "1543170  2008-07-02 08:34:19   635463   604657\n",
      "1558819  2008-07-03 07:49:28   532733   604657\n",
      "1558840  2008-07-03 07:54:05   637727   604657\n",
      "1558869  2008-07-03 08:08:56   633100   604657\n",
      "1573735  2008-07-04 07:54:25   611120   604657\n",
      "1573778  2008-07-04 08:14:37   584295   604657\n",
      "1573931  2008-07-04 08:43:17   174258   604657\n",
      "1824395  2008-07-21 09:13:53   338379   604657\n",
      "1840629  2008-07-22 07:41:19   465077   604657\n",
      "1840635  2008-07-22 07:49:58   608499   604657\n",
      "1840648  2008-07-22 07:52:46   672606   604657\n",
      "1840818  2008-07-22 08:38:58   675669   604657\n",
      "1840828  2008-07-22 08:40:30   668961   604657\n",
      "2006602  2008-08-02 08:27:22   697967   604657\n",
      "2006758  2008-08-02 08:49:56   638056   604657\n",
      "2020023  2008-08-03 06:35:55   693399   604657\n",
      "2054024  2008-08-05 07:11:34   707775   604657\n",
      "2054111  2008-08-05 07:23:22   664031   604657\n",
      "2073289  2008-08-06 08:27:38   708319   604657\n",
      "2093087  2008-08-07 07:26:48   709312   604657\n",
      "...                      ...      ...      ...\n",
      "12070798 2011-12-24 21:41:08  1842688   604657\n",
      "12074209 2011-12-26 12:22:44  2035200   604657\n",
      "12074298 2011-12-26 12:50:24  1594345   604657\n",
      "12074578 2011-12-26 14:15:03  1640667   604657\n",
      "12074616 2011-12-26 14:33:44  1045236   604657\n",
      "12077223 2011-12-27 10:16:59  1888286   604657\n",
      "12077436 2011-12-27 11:20:10  1982257   604657\n",
      "12080015 2011-12-27 21:20:38  1553684   604657\n",
      "12081760 2011-12-28 14:44:54  1986518   604657\n",
      "12082578 2011-12-28 18:10:38  1576615   604657\n",
      "12095388 2012-01-06 10:06:21  1491235   604657\n",
      "12096856 2012-01-06 17:39:49   616194   604657\n",
      "12099400 2012-01-07 17:24:26  1272898   604657\n",
      "12100434 2012-01-08 09:55:30  1348516   604657\n",
      "12109426 2012-01-14 19:31:28  1765264   604657\n",
      "12143530 2012-02-06 11:26:25   417817   604657\n",
      "12143541 2012-02-06 11:35:02  2000237   604657\n",
      "12145950 2012-02-07 16:44:58  2020897   604657\n",
      "12150123 2012-02-10 11:15:47  1926465   604657\n",
      "12164511 2012-02-19 07:57:18  1853000   604657\n",
      "12175983 2012-02-29 08:45:48  2069943   604657\n",
      "12181016 2012-03-07 09:35:07  1988589   604657\n",
      "12206262 2012-04-04 08:13:27  2053947   604657\n",
      "12211836 2012-04-10 10:23:14  1809002   604657\n",
      "12378488 2012-09-16 15:28:35   604657  1640667\n",
      "12381173 2012-09-22 10:55:19   604657   787633\n",
      "12381174 2012-09-22 10:55:27   604657  1907989\n",
      "12381678 2012-09-22 19:30:13   604657   509803\n",
      "12381684 2012-09-22 19:33:12   604657  1674335\n",
      "12382032 2012-09-23 12:17:03   604657  1842688\n",
      "\n",
      "[12466 rows x 3 columns]\n"
     ]
    }
   ],
   "source": [
    "print(\"\\nNew friends for user number 604657: \")\n",
    "p=y.loc[((y[1] == 604657)|(y[2] == 604657))]\n",
    "print(\"Total friends: {0}\".format(len(p)))\n",
    "print(p)"
   ]
  },
  {
   "cell_type": "code",
   "execution_count": 31,
   "metadata": {
    "collapsed": true
   },
   "outputs": [],
   "source": [
    "T4=[]\n",
    "for i in range(60):\n",
    "    T4.append(p.loc[(p[0]>=s[i])&(p[0]<s[i+1])])"
   ]
  },
  {
   "cell_type": "code",
   "execution_count": 32,
   "metadata": {
    "collapsed": true
   },
   "outputs": [],
   "source": [
    "X4=[]\n",
    "for i in range(60):\n",
    "    X4.append(nx.from_pandas_dataframe(T4[i],source=1, target=2,edge_attr=True))"
   ]
  },
  {
   "cell_type": "code",
   "execution_count": 33,
   "metadata": {},
   "outputs": [
    {
     "data": {
      "image/png": "[encoded data removed]",
      "text/plain": [
       "<matplotlib.figure.Figure at 0x1a627998c18>"
      ]
     },
     "metadata": {},
     "output_type": "display_data"
    }
   ],
   "source": [
    "plt.figure(figsize=(8,5), dpi=80)\n",
    "for i in range(60):\n",
    "    plt.scatter(s[i],X4[i].size())\n",
    "plt.ylabel('Number of friends')\n",
    "plt.title('New friends of user 604657 from 2007 to 2012')\n",
    "plt.savefig('friends604657.png')\n",
    "plt.show()"
   ]
  },
  {
   "cell_type": "code",
   "execution_count": 52,
   "metadata": {},
   "outputs": [
    {
     "name": "stdout",
     "output_type": "stream",
     "text": [
      "\n",
      "New friends for user number 193674: \n",
      "Total friends: 7437\n",
      "                           0        1        2\n",
      "3155319  2008-10-19 16:31:00   777064   862314\n",
      "3158026  2008-10-19 18:48:49   862206   862314\n",
      "3158084  2008-10-19 18:50:32   762208   862314\n",
      "3158187  2008-10-19 18:56:01   770378   862314\n",
      "3161327  2008-10-20 11:50:58   860432   862314\n",
      "3161336  2008-10-20 11:52:01   837409   862314\n",
      "3161338  2008-10-20 11:52:08   864057   862314\n",
      "3161604  2008-10-20 12:25:49   863394   862314\n",
      "3161768  2008-10-20 12:40:20   850441   862314\n",
      "3161796  2008-10-20 12:43:54   862181   862314\n",
      "3162109  2008-10-20 13:07:37   851006   862314\n",
      "3162208  2008-10-20 13:11:43   858709   862314\n",
      "3162892  2008-10-20 13:51:27   864314   862314\n",
      "3163072  2008-10-20 14:03:14   851318   862314\n",
      "3163098  2008-10-20 14:04:31   861270   862314\n",
      "3163391  2008-10-20 14:19:56   860180   862314\n",
      "3164677  2008-10-20 15:35:09   856554   862314\n",
      "3164732  2008-10-20 15:37:57   750894   862314\n",
      "3165705  2008-10-20 16:38:11   850792   862314\n",
      "3166524  2008-10-20 17:29:29   847321   862314\n",
      "3168606  2008-10-20 19:35:33   842376   862314\n",
      "3171786  2008-10-21 13:43:13   853340   862314\n",
      "3172339  2008-10-21 14:21:02   590511   862314\n",
      "3172448  2008-10-21 14:28:30   816825   862314\n",
      "3172524  2008-10-21 14:31:49   865331   862314\n",
      "3172600  2008-10-21 14:34:37   860545   862314\n",
      "3173177  2008-10-21 15:10:00   843348   862314\n",
      "3175108  2008-10-21 17:19:24   863156   862314\n",
      "3177441  2008-10-21 19:18:42   828930   862314\n",
      "3181512  2008-10-22 14:16:42   840362   862314\n",
      "...                      ...      ...      ...\n",
      "11717907 2011-07-14 21:44:57   862314  1871918\n",
      "11718018 2011-07-14 22:27:14   862314  1405939\n",
      "11719099 2011-07-15 13:09:24  1289150   862314\n",
      "11724012 2011-07-17 09:16:53   862314  1941897\n",
      "11724379 2011-07-17 12:09:57  1871918   862314\n",
      "11731728 2011-07-19 18:07:13   862314  1681359\n",
      "11927653 2011-10-08 08:52:29  1982372   862314\n",
      "11927842 2011-10-08 10:11:08   862314  1474731\n",
      "11927912 2011-10-08 10:40:35   862314  1978872\n",
      "11927913 2011-10-08 10:40:43  1978872   862314\n",
      "11927932 2011-10-08 10:50:42   924898   862314\n",
      "11928319 2011-10-08 12:31:32   862314  1993166\n",
      "11928342 2011-10-08 12:42:04  1993166   862314\n",
      "11931801 2011-10-09 17:11:23   862314  1995812\n",
      "12039374 2011-11-29 21:49:59   966339   862314\n",
      "12174778 2012-02-27 16:26:38   862314  1877419\n",
      "12174789 2012-02-27 16:38:37  1018305   862314\n",
      "12174790 2012-02-27 16:38:44   862314  1018305\n",
      "12251980 2012-06-01 14:33:49   817187   862314\n",
      "12351857 2012-08-16 11:28:02  2065233   862314\n",
      "12351865 2012-08-16 11:29:54  1056824   862314\n",
      "12351868 2012-08-16 11:31:17   862314  2115075\n",
      "12351870 2012-08-16 11:34:23   862314  1844755\n",
      "12351871 2012-08-16 11:34:41   862314  1812661\n",
      "12351875 2012-08-16 11:39:10   862314  1830886\n",
      "12377237 2012-09-14 21:04:47   862314  1782941\n",
      "12377244 2012-09-14 21:28:56   862314  1907989\n",
      "12377247 2012-09-14 21:31:23   862314  1991066\n",
      "12377261 2012-09-14 21:43:14   862314  2126552\n",
      "12377262 2012-09-14 21:44:31  2126552   862314\n",
      "\n",
      "[7437 rows x 3 columns]\n"
     ]
    }
   ],
   "source": [
    "print(\"\\nNew friends for user number 236410: \")\n",
    "t=y.loc[((y[1] == 236410)|(y[2] == 236410))]\n",
    "print(\"Total friends: {0}\".format(len(t)))\n",
    "print(t)"
   ]
  },
  {
   "cell_type": "code",
   "execution_count": 53,
   "metadata": {
    "collapsed": true
   },
   "outputs": [],
   "source": [
    "T5=[]\n",
    "for i in range(60):\n",
    "    T5.append(t.loc[(t[0]>=s[i])&(t[0]<s[i+1])])"
   ]
  },
  {
   "cell_type": "code",
   "execution_count": 54,
   "metadata": {
    "collapsed": true
   },
   "outputs": [],
   "source": [
    "X5=[]\n",
    "for i in range(60):\n",
    "    X5.append(nx.from_pandas_dataframe(T5[i],source=1, target=2,edge_attr=True))"
   ]
  },
  {
   "cell_type": "code",
   "execution_count": 56,
   "metadata": {},
   "outputs": [
    {
     "data": {
      "image/png": "[encoded data removed]",
      "text/plain": [
       "<matplotlib.figure.Figure at 0x1a62be3a8d0>"
      ]
     },
     "metadata": {},
     "output_type": "display_data"
    }
   ],
   "source": [
    "plt.figure(figsize=(8,5), dpi=80)\n",
    "for i in range(60):\n",
    "    plt.scatter(s[i],X5[i].size())\n",
    "plt.ylabel('Number of friends')\n",
    "plt.title('New friends of user 236410 from 2007 to 2012')\n",
    "plt.savefig('friends236410.png')\n",
    "plt.show()"
   ]
  },
  {
   "cell_type": "code",
   "execution_count": null,
   "metadata": {
    "collapsed": true
   },
   "outputs": [],
   "source": []
  },
  {
   "cell_type": "code",
   "execution_count": null,
   "metadata": {
    "collapsed": true
   },
   "outputs": [],
   "source": []
  }
 ],
 "metadata": {
  "kernelspec": {
   "display_name": "Python 3",
   "language": "python",
   "name": "python3"
  },
  "language_info": {
   "codemirror_mode": {
    "name": "ipython",
    "version": 3
   },
   "file_extension": ".py",
   "mimetype": "text/x-python",
   "name": "python",
   "nbconvert_exporter": "python",
   "pygments_lexer": "ipython3",
   "version": "3.6.3"
  }
 },
 "nbformat": 4,
 "nbformat_minor": 2
}
