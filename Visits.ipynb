{
 "cells": [
  {
   "cell_type": "code",
   "execution_count": 1,
   "metadata": {
    "collapsed": true
   },
   "outputs": [],
   "source": [
    "import os\n",
    "import numpy as np\n",
    "import pandas as pd\n",
    "import networkx as nx\n",
    "from matplotlib import pyplot as plt"
   ]
  },
  {
   "cell_type": "code",
   "execution_count": 2,
   "metadata": {
    "collapsed": true
   },
   "outputs": [],
   "source": [
    "os.chdir(\"C:\\\\Users\\\\alex\\\\Desktop\\\\Project 9- Virtual world Data Analysis\\\\dataverse_files\\\\csv\")"
   ]
  },
  {
   "cell_type": "code",
   "execution_count": 3,
   "metadata": {
    "collapsed": true
   },
   "outputs": [],
   "source": [
    "y=pd.read_csv('visits.csv',sep=\";\",header=None,engine='python',usecols=(0,1,2))"
   ]
  },
  {
   "cell_type": "code",
   "execution_count": 4,
   "metadata": {
    "collapsed": true
   },
   "outputs": [],
   "source": [
    "#y"
   ]
  },
  {
   "cell_type": "code",
   "execution_count": 5,
   "metadata": {
    "collapsed": true
   },
   "outputs": [],
   "source": [
    "G=nx.from_pandas_dataframe(y,source=1, target=2,edge_attr=True) "
   ]
  },
  {
   "cell_type": "code",
   "execution_count": 6,
   "metadata": {},
   "outputs": [
    {
     "name": "stdout",
     "output_type": "stream",
     "text": [
      "261670\n",
      "5461599\n"
     ]
    }
   ],
   "source": [
    "print(G.order())\n",
    "print(G.size())"
   ]
  },
  {
   "cell_type": "code",
   "execution_count": 7,
   "metadata": {
    "collapsed": true
   },
   "outputs": [],
   "source": [
    "s = pd.Series(pd.date_range('2008-01-07 22:07:00','2012-10-04 22:51:00',freq='1M'))"
   ]
  },
  {
   "cell_type": "code",
   "execution_count": 8,
   "metadata": {},
   "outputs": [
    {
     "data": {
      "text/plain": [
       "Timestamp('2012-09-30 22:07:00')"
      ]
     },
     "execution_count": 8,
     "metadata": {},
     "output_type": "execute_result"
    }
   ],
   "source": [
    "s[56]"
   ]
  },
  {
   "cell_type": "code",
   "execution_count": 9,
   "metadata": {
    "collapsed": true
   },
   "outputs": [],
   "source": [
    "y[0]=y[0].as_matrix() \n",
    "y[0]= pd.to_datetime(y[0])"
   ]
  },
  {
   "cell_type": "code",
   "execution_count": 10,
   "metadata": {
    "collapsed": true
   },
   "outputs": [],
   "source": [
    "Time=[]\n",
    "for i in range(56):\n",
    "    Time.append(y.loc[(y[0]>=s[i])&(y[0]<s[i+1])])"
   ]
  },
  {
   "cell_type": "code",
   "execution_count": 11,
   "metadata": {
    "collapsed": true
   },
   "outputs": [],
   "source": [
    "X=[]\n",
    "for i in range(56):\n",
    "    X.append(nx.from_pandas_dataframe(Time[i],source=1, target=2,edge_attr=True)) "
   ]
  },
  {
   "cell_type": "code",
   "execution_count": 12,
   "metadata": {},
   "outputs": [
    {
     "name": "stdout",
     "output_type": "stream",
     "text": [
      "8151 132332 2008-01-31 22:07:00 2008-02-29 22:07:00\n",
      "11333 183805 2008-02-29 22:07:00 2008-03-31 22:07:00\n",
      "13410 200357 2008-03-31 22:07:00 2008-04-30 22:07:00\n",
      "20017 242262 2008-04-30 22:07:00 2008-05-31 22:07:00\n",
      "22178 312597 2008-05-31 22:07:00 2008-06-30 22:07:00\n",
      "23356 322373 2008-06-30 22:07:00 2008-07-31 22:07:00\n",
      "25846 342412 2008-07-31 22:07:00 2008-08-31 22:07:00\n",
      "20320 193584 2008-08-31 22:07:00 2008-09-30 22:07:00\n",
      "20005 186040 2008-09-30 22:07:00 2008-10-31 22:07:00\n",
      "21187 170401 2008-10-31 22:07:00 2008-11-30 22:07:00\n",
      "20926 160720 2008-11-30 22:07:00 2008-12-31 22:07:00\n",
      "21170 166839 2008-12-31 22:07:00 2009-01-31 22:07:00\n",
      "20919 164462 2009-01-31 22:07:00 2009-02-28 22:07:00\n",
      "22085 165314 2009-02-28 22:07:00 2009-03-31 22:07:00\n",
      "21954 167924 2009-03-31 22:07:00 2009-04-30 22:07:00\n",
      "20947 155402 2009-04-30 22:07:00 2009-05-31 22:07:00\n",
      "22986 172083 2009-05-31 22:07:00 2009-06-30 22:07:00\n",
      "23824 196205 2009-06-30 22:07:00 2009-07-31 22:07:00\n",
      "22798 183799 2009-07-31 22:07:00 2009-08-31 22:07:00\n",
      "16543 95219 2009-08-31 22:07:00 2009-09-30 22:07:00\n",
      "18398 116799 2009-09-30 22:07:00 2009-10-31 22:07:00\n",
      "19392 130678 2009-10-31 22:07:00 2009-11-30 22:07:00\n",
      "19208 123877 2009-11-30 22:07:00 2009-12-31 22:07:00\n",
      "19656 134599 2009-12-31 22:07:00 2010-01-31 22:07:00\n",
      "20352 137735 2010-01-31 22:07:00 2010-02-28 22:07:00\n",
      "18757 115387 2010-02-28 22:07:00 2010-03-31 22:07:00\n",
      "17590 96234 2010-03-31 22:07:00 2010-04-30 22:07:00\n",
      "16258 83968 2010-04-30 22:07:00 2010-05-31 22:07:00\n",
      "17898 102616 2010-05-31 22:07:00 2010-06-30 22:07:00\n",
      "19916 116418 2010-06-30 22:07:00 2010-07-31 22:07:00\n",
      "16956 95998 2010-07-31 22:07:00 2010-08-31 22:07:00\n",
      "13010 58355 2010-08-31 22:07:00 2010-09-30 22:07:00\n",
      "13693 65312 2010-09-30 22:07:00 2010-10-31 22:07:00\n",
      "14614 79156 2010-10-31 22:07:00 2010-11-30 22:07:00\n",
      "15002 80178 2010-11-30 22:07:00 2010-12-31 22:07:00\n",
      "14647 78896 2010-12-31 22:07:00 2011-01-31 22:07:00\n",
      "13653 66952 2011-01-31 22:07:00 2011-02-28 22:07:00\n",
      "12636 59148 2011-02-28 22:07:00 2011-03-31 22:07:00\n",
      "11577 50393 2011-03-31 22:07:00 2011-04-30 22:07:00\n",
      "9817 39380 2011-04-30 22:07:00 2011-05-31 22:07:00\n",
      "10303 41190 2011-05-31 22:07:00 2011-06-30 22:07:00\n",
      "11874 53190 2011-06-30 22:07:00 2011-07-31 22:07:00\n",
      "11696 52134 2011-07-31 22:07:00 2011-08-31 22:07:00\n",
      "8353 32519 2011-08-31 22:07:00 2011-09-30 22:07:00\n",
      "9713 42121 2011-09-30 22:07:00 2011-10-31 22:07:00\n",
      "9887 40442 2011-10-31 22:07:00 2011-11-30 22:07:00\n",
      "7578 24584 2011-11-30 22:07:00 2011-12-31 22:07:00\n",
      "8290 27494 2011-12-31 22:07:00 2012-01-31 22:07:00\n",
      "7291 24846 2012-01-31 22:07:00 2012-02-29 22:07:00\n",
      "5728 16810 2012-02-29 22:07:00 2012-03-31 22:07:00\n",
      "5743 17274 2012-03-31 22:07:00 2012-04-30 22:07:00\n",
      "5691 15340 2012-04-30 22:07:00 2012-05-31 22:07:00\n",
      "6667 22616 2012-05-31 22:07:00 2012-06-30 22:07:00\n",
      "7393 25645 2012-06-30 22:07:00 2012-07-31 22:07:00\n",
      "6954 22559 2012-07-31 22:07:00 2012-08-31 22:07:00\n",
      "5187 15709 2012-08-31 22:07:00 2012-09-30 22:07:00\n"
     ]
    }
   ],
   "source": [
    "for i in range(56):\n",
    "    print(X[i].order(),X[i].size(),s[i],s[i+1])"
   ]
  },
  {
   "cell_type": "code",
   "execution_count": 13,
   "metadata": {},
   "outputs": [
    {
     "data": {
      "text/plain": [
       "Timestamp('2012-01-31 22:07:00')"
      ]
     },
     "execution_count": 13,
     "metadata": {},
     "output_type": "execute_result"
    }
   ],
   "source": [
    "s[48]"
   ]
  },
  {
   "cell_type": "code",
   "execution_count": 14,
   "metadata": {},
   "outputs": [
    {
     "data": {
      "image/png": "[encoded data removed]",
      "text/plain": [
       "<matplotlib.figure.Figure at 0x2632bfcd4e0>"
      ]
     },
     "metadata": {},
     "output_type": "display_data"
    }
   ],
   "source": [
    "for i in range(56):\n",
    "    if ((i==33)|(i==46)|(i==48)):\n",
    "        plt.scatter(s[i],X[i].size(),c='r')\n",
    "    else:\n",
    "        plt.scatter(s[i],X[i].size(),c='c')\n",
    "plt.grid()\n",
    "plt.ylabel('Number of visits')\n",
    "plt.title('Number of visits monthly from 2008 to 2013')\n",
    "plt.savefig('vis1.png')\n",
    "plt.show()"
   ]
  },
  {
   "cell_type": "code",
   "execution_count": 15,
   "metadata": {
    "collapsed": true
   },
   "outputs": [],
   "source": [
    "s1 = pd.Series(pd.date_range('2011-10-28 00:00:00','2012-11-03 00:00:00',freq='6H'))"
   ]
  },
  {
   "cell_type": "code",
   "execution_count": 16,
   "metadata": {},
   "outputs": [
    {
     "data": {
      "text/plain": [
       "Timestamp('2011-11-03 00:00:00')"
      ]
     },
     "execution_count": 16,
     "metadata": {},
     "output_type": "execute_result"
    }
   ],
   "source": [
    "s1[24]"
   ]
  },
  {
   "cell_type": "code",
   "execution_count": 17,
   "metadata": {
    "collapsed": true
   },
   "outputs": [],
   "source": [
    "T1=[]\n",
    "for i in range(24):\n",
    "    T1.append(y.loc[(y[0]>=s1[i])&(y[0]<s1[i+1])])"
   ]
  },
  {
   "cell_type": "code",
   "execution_count": 18,
   "metadata": {
    "collapsed": true
   },
   "outputs": [],
   "source": [
    "X1=[]\n",
    "for i in range(24):\n",
    "    X1.append(nx.from_pandas_dataframe(T1[i],source=1, target=2,edge_attr=True)) "
   ]
  },
  {
   "cell_type": "code",
   "execution_count": 19,
   "metadata": {},
   "outputs": [
    {
     "name": "stdout",
     "output_type": "stream",
     "text": [
      "7 6 2011-10-28 00:00:00 2011-10-28 06:00:00\n",
      "106 106 2011-10-28 06:00:00 2011-10-28 12:00:00\n",
      "587 750 2011-10-28 12:00:00 2011-10-28 18:00:00\n",
      "629 779 2011-10-28 18:00:00 2011-10-29 00:00:00\n",
      "20 17 2011-10-29 00:00:00 2011-10-29 06:00:00\n",
      "350 387 2011-10-29 06:00:00 2011-10-29 12:00:00\n",
      "742 991 2011-10-29 12:00:00 2011-10-29 18:00:00\n",
      "649 847 2011-10-29 18:00:00 2011-10-30 00:00:00\n",
      "82 89 2011-10-30 00:00:00 2011-10-30 06:00:00\n",
      "568 696 2011-10-30 06:00:00 2011-10-30 12:00:00\n",
      "822 1114 2011-10-30 12:00:00 2011-10-30 18:00:00\n",
      "908 1292 2011-10-30 18:00:00 2011-10-31 00:00:00\n",
      "18 13 2011-10-31 00:00:00 2011-10-31 06:00:00\n",
      "528 677 2011-10-31 06:00:00 2011-10-31 12:00:00\n",
      "765 964 2011-10-31 12:00:00 2011-10-31 18:00:00\n",
      "640 779 2011-10-31 18:00:00 2011-11-01 00:00:00\n",
      "140 141 2011-11-01 00:00:00 2011-11-01 06:00:00\n",
      "286 306 2011-11-01 06:00:00 2011-11-01 12:00:00\n",
      "752 947 2011-11-01 12:00:00 2011-11-01 18:00:00\n",
      "574 678 2011-11-01 18:00:00 2011-11-02 00:00:00\n",
      "0 0 2011-11-02 00:00:00 2011-11-02 06:00:00\n",
      "100 95 2011-11-02 06:00:00 2011-11-02 12:00:00\n",
      "641 828 2011-11-02 12:00:00 2011-11-02 18:00:00\n",
      "527 659 2011-11-02 18:00:00 2011-11-03 00:00:00\n"
     ]
    }
   ],
   "source": [
    "for i in range(24):\n",
    "    print(X1[i].order(),X1[i].size(),s1[i],s1[i+1])"
   ]
  },
  {
   "cell_type": "code",
   "execution_count": 20,
   "metadata": {},
   "outputs": [
    {
     "data": {
      "image/png": "[encoded data removed]",
      "text/plain": [
       "<matplotlib.figure.Figure at 0x2632ce3b1d0>"
      ]
     },
     "metadata": {},
     "output_type": "display_data"
    }
   ],
   "source": [
    "plt.figure(figsize=(15,5))\n",
    "for i in range(24):\n",
    "    plt.scatter(s1[i],X1[i].size(),c='r')\n",
    "plt.xlim(s1[0],s1[24])\n",
    "plt.ylabel('Number of visits')\n",
    "plt.title('Number of visits in period of 1st and 2nd campaigns')\n",
    "plt.savefig('vis2.png')\n",
    "plt.show()"
   ]
  },
  {
   "cell_type": "code",
   "execution_count": 21,
   "metadata": {
    "collapsed": true
   },
   "outputs": [],
   "source": [
    "s2 = pd.Series(pd.date_range('2011-12-06 00:00:00','2012-02-02 00:00:00',freq='1D'))"
   ]
  },
  {
   "cell_type": "code",
   "execution_count": 22,
   "metadata": {},
   "outputs": [
    {
     "data": {
      "text/plain": [
       "Timestamp('2012-02-02 00:00:00')"
      ]
     },
     "execution_count": 22,
     "metadata": {},
     "output_type": "execute_result"
    }
   ],
   "source": [
    "s2[58]"
   ]
  },
  {
   "cell_type": "code",
   "execution_count": 23,
   "metadata": {
    "collapsed": true
   },
   "outputs": [],
   "source": [
    "T2=[]\n",
    "for i in range(58):\n",
    "    T2.append(y.loc[(y[0]>=s2[i])&(y[0]<s2[i+1])])"
   ]
  },
  {
   "cell_type": "code",
   "execution_count": 24,
   "metadata": {
    "collapsed": true
   },
   "outputs": [],
   "source": [
    "X2=[]\n",
    "for i in range(58):\n",
    "    X2.append(nx.from_pandas_dataframe(T2[i],source=1, target=2,edge_attr=True)) "
   ]
  },
  {
   "cell_type": "code",
   "execution_count": 25,
   "metadata": {},
   "outputs": [
    {
     "name": "stdout",
     "output_type": "stream",
     "text": [
      "0 0 2011-12-06 00:00:00 2011-12-07 00:00:00\n",
      "0 0 2011-12-07 00:00:00 2011-12-08 00:00:00\n",
      "0 0 2011-12-08 00:00:00 2011-12-09 00:00:00\n",
      "0 0 2011-12-09 00:00:00 2011-12-10 00:00:00\n",
      "1223 1751 2011-12-10 00:00:00 2011-12-11 00:00:00\n",
      "864 1262 2011-12-11 00:00:00 2011-12-12 00:00:00\n",
      "574 691 2011-12-12 00:00:00 2011-12-13 00:00:00\n",
      "604 746 2011-12-13 00:00:00 2011-12-14 00:00:00\n",
      "630 805 2011-12-14 00:00:00 2011-12-15 00:00:00\n",
      "656 796 2011-12-15 00:00:00 2011-12-16 00:00:00\n",
      "939 1201 2011-12-16 00:00:00 2011-12-17 00:00:00\n",
      "1385 2237 2011-12-17 00:00:00 2011-12-18 00:00:00\n",
      "1067 1533 2011-12-18 00:00:00 2011-12-19 00:00:00\n",
      "709 951 2011-12-19 00:00:00 2011-12-20 00:00:00\n",
      "784 1003 2011-12-20 00:00:00 2011-12-21 00:00:00\n",
      "1070 1503 2011-12-21 00:00:00 2011-12-22 00:00:00\n",
      "1152 1601 2011-12-22 00:00:00 2011-12-23 00:00:00\n",
      "1346 2214 2011-12-23 00:00:00 2011-12-24 00:00:00\n",
      "850 1182 2011-12-24 00:00:00 2011-12-25 00:00:00\n",
      "1143 1579 2011-12-25 00:00:00 2011-12-26 00:00:00\n",
      "1341 2058 2011-12-26 00:00:00 2011-12-27 00:00:00\n",
      "1370 2253 2011-12-27 00:00:00 2011-12-28 00:00:00\n",
      "1263 1884 2011-12-28 00:00:00 2011-12-29 00:00:00\n",
      "769 806 2011-12-29 00:00:00 2011-12-30 00:00:00\n",
      "872 1050 2011-12-30 00:00:00 2011-12-31 00:00:00\n",
      "1023 1312 2011-12-31 00:00:00 2012-01-01 00:00:00\n",
      "1040 1443 2012-01-01 00:00:00 2012-01-02 00:00:00\n",
      "848 1174 2012-01-02 00:00:00 2012-01-03 00:00:00\n",
      "775 1048 2012-01-03 00:00:00 2012-01-04 00:00:00\n",
      "762 969 2012-01-04 00:00:00 2012-01-05 00:00:00\n",
      "780 1014 2012-01-05 00:00:00 2012-01-06 00:00:00\n",
      "1245 1882 2012-01-06 00:00:00 2012-01-07 00:00:00\n",
      "1170 1775 2012-01-07 00:00:00 2012-01-08 00:00:00\n",
      "918 1319 2012-01-08 00:00:00 2012-01-09 00:00:00\n",
      "693 883 2012-01-09 00:00:00 2012-01-10 00:00:00\n",
      "642 830 2012-01-10 00:00:00 2012-01-11 00:00:00\n",
      "534 676 2012-01-11 00:00:00 2012-01-12 00:00:00\n",
      "645 792 2012-01-12 00:00:00 2012-01-13 00:00:00\n",
      "772 1006 2012-01-13 00:00:00 2012-01-14 00:00:00\n",
      "1280 2033 2012-01-14 00:00:00 2012-01-15 00:00:00\n",
      "1063 1537 2012-01-15 00:00:00 2012-01-16 00:00:00\n",
      "756 950 2012-01-16 00:00:00 2012-01-17 00:00:00\n",
      "569 777 2012-01-17 00:00:00 2012-01-18 00:00:00\n",
      "821 1207 2012-01-18 00:00:00 2012-01-19 00:00:00\n",
      "690 954 2012-01-19 00:00:00 2012-01-20 00:00:00\n",
      "401 472 2012-01-20 00:00:00 2012-01-21 00:00:00\n",
      "1016 1558 2012-01-21 00:00:00 2012-01-22 00:00:00\n",
      "992 1412 2012-01-22 00:00:00 2012-01-23 00:00:00\n",
      "996 1352 2012-01-23 00:00:00 2012-01-24 00:00:00\n",
      "751 965 2012-01-24 00:00:00 2012-01-25 00:00:00\n",
      "930 1247 2012-01-25 00:00:00 2012-01-26 00:00:00\n",
      "929 1308 2012-01-26 00:00:00 2012-01-27 00:00:00\n",
      "592 654 2012-01-27 00:00:00 2012-01-28 00:00:00\n",
      "729 812 2012-01-28 00:00:00 2012-01-29 00:00:00\n",
      "832 1176 2012-01-29 00:00:00 2012-01-30 00:00:00\n",
      "776 1020 2012-01-30 00:00:00 2012-01-31 00:00:00\n",
      "979 1352 2012-01-31 00:00:00 2012-02-01 00:00:00\n",
      "896 1209 2012-02-01 00:00:00 2012-02-02 00:00:00\n"
     ]
    }
   ],
   "source": [
    "for i in range(58):\n",
    "    print(X2[i].order(),X2[i].size(),s2[i],s2[i+1])"
   ]
  },
  {
   "cell_type": "code",
   "execution_count": 26,
   "metadata": {},
   "outputs": [
    {
     "data": {
      "image/png": "[encoded data removed]",
      "text/plain": [
       "<matplotlib.figure.Figure at 0x26330360c50>"
      ]
     },
     "metadata": {},
     "output_type": "display_data"
    }
   ],
   "source": [
    "plt.figure(figsize=(15,5))\n",
    "for i in range(58):\n",
    "    plt.scatter(s2[i],X2[i].size(),c='r')\n",
    "plt.xlim(s2[0],s2[58])\n",
    "plt.ylabel('Number of visits')\n",
    "plt.title('Number of visits in period of 3st, 4nd and 5th campaigns')\n",
    "plt.savefig('vis3.png')\n",
    "plt.show()"
   ]
  },
  {
   "cell_type": "code",
   "execution_count": null,
   "metadata": {
    "collapsed": true
   },
   "outputs": [],
   "source": []
  }
 ],
 "metadata": {
  "kernelspec": {
   "display_name": "Python 3",
   "language": "python",
   "name": "python3"
  },
  "language_info": {
   "codemirror_mode": {
    "name": "ipython",
    "version": 3
   },
   "file_extension": ".py",
   "mimetype": "text/x-python",
   "name": "python",
   "nbconvert_exporter": "python",
   "pygments_lexer": "ipython3",
   "version": "3.6.3"
  }
 },
 "nbformat": 4,
 "nbformat_minor": 2
}
